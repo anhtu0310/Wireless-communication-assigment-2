{
 "cells": [
  {
   "cell_type": "markdown",
   "id": "b726c681-1730-4fcf-8648-5010d48a0420",
   "metadata": {},
   "source": [
    "# Channel equalization"
   ]
  },
  {
   "cell_type": "markdown",
   "id": "fc5b3d73-3fed-4b3a-bbec-ce6629df1b68",
   "metadata": {},
   "source": [
    "![title](profile/group02_profile.jpg)"
   ]
  },
  {
   "cell_type": "markdown",
   "id": "708f666d-80b6-48e5-b953-7e2564b3ae37",
   "metadata": {},
   "source": [
    "## Introduction"
   ]
  },
  {
   "cell_type": "markdown",
   "id": "94dea095-5526-40dd-88e3-a04a2797e2f4",
   "metadata": {},
   "source": [
    "In wireless communication. The wireless channels consist of various types of impairments such as delay spread, fading and Doppler spread, etc. Multipath propagation in channel introduces delay spread that cause ISI, ICI,....\n"
   ]
  },
  {
   "cell_type": "markdown",
   "id": "61fb7cda-95cc-4745-829f-7ce6bb2fe697",
   "metadata": {},
   "source": [
    "In order to encouter that, we need to do equalization to reduce the distortion, mitigate the combined effect of ISI and noise. Thus to restore the original signal, we used a filter, there are two basic filterL Zero Forcing or MMSE (Minimum Mean Square Error)"
   ]
  },
  {
   "cell_type": "markdown",
   "id": "b2b4c878-81e6-4d89-94b1-ca42af7dd231",
   "metadata": {},
   "source": [
    "## Objective "
   ]
  },
  {
   "cell_type": "markdown",
   "id": "54d90f28-fd5f-4897-a9d5-74341873d02d",
   "metadata": {},
   "source": [
    "In this note book, we will show how the Zero Forcing equalizer and MMSE equalizer work mathematically, and how to calculate it\n",
    "![title](theory_pics/2-Figure1-1.png)"
   ]
  },
  {
   "cell_type": "markdown",
   "id": "e9dfffa8-a2ca-4050-9032-09a89d24e5e3",
   "metadata": {},
   "source": [
    "## Zero forcing equalizer"
   ]
  },
  {
   "cell_type": "markdown",
   "id": "7c7286e8-deea-4327-b8eb-082ce7bc5f7e",
   "metadata": {},
   "source": [
    "With Zero Forcing qualizaer we have \n",
    "$$\n",
    "    z(m) = C(m)*h(m) \\\\\n",
    "     (m = -N,....+N)\\\\  \n",
    "     z(m)=\\sum \\limits _{n=-N} ^{n=+N} C(n).h(m-n)\n",
    "$$\n",
    "Where \n",
    "       z : Ouput of the filter C : Filter vector h: Input signal\n"
   ]
  },
  {
   "cell_type": "markdown",
   "id": "bf01a083-26df-4c00-95ff-a43227a20de0",
   "metadata": {},
   "source": [
    "In matrix\n",
    "$$\n",
    "\\vec z = h. \\vec c\\\\\n",
    "\\vec c = h^{-1} . \\vec z\n",
    "$$\n"
   ]
  },
  {
   "cell_type": "markdown",
   "id": "10c977d1-a076-4a4f-ae59-4465b4100201",
   "metadata": {},
   "source": [
    "In this part. we will take an example from the book, and calculate the filter output based on the equations, the evaluate the output"
   ]
  },
  {
   "cell_type": "markdown",
   "id": "01f137a6-b0cf-4e18-bacb-418c5a9d09bd",
   "metadata": {},
   "source": [
    "Before begining the calculation we need to import the numpy libary which contains most of the functions we are going to use"
   ]
  },
  {
   "cell_type": "code",
   "execution_count": null,
   "id": "11aea123-8fc6-47a7-a3ce-9219c10fe46c",
   "metadata": {},
   "outputs": [],
   "source": [
    "import numpy as np\n",
    "from numpy.linalg import inv"
   ]
  },
  {
   "cell_type": "markdown",
   "id": "ceed65df-b7f6-410c-bd46-76dafe09f849",
   "metadata": {},
   "source": [
    "Base on the above equation, we first need to create the impulse respone matrix from the impusle respone of the channel"
   ]
  },
  {
   "cell_type": "code",
   "execution_count": null,
   "id": "258e56d3-0acb-4448-b949-b1bbbc383372",
   "metadata": {},
   "outputs": [],
   "source": [
    "# this function generate a matrix base on a input array, offset is based on the input array\n",
    "def generate_square_matrix(arr_data,size,data_offset,datatype):\n",
    "    aMatrix = np.mat(np.zeros(shape=(size,size))).astype(datatype)\n",
    "    for i1 in range(size):    \n",
    "        for i2 in range(size):\n",
    "            try:\n",
    "                arr_index = i2+data_offset-i1\n",
    "                if arr_index < 0:\n",
    "                    continue\n",
    "                aMatrix[i2,i1]=arr_data[arr_index]\n",
    "            except:\n",
    "                break\n",
    "    return aMatrix"
   ]
  },
  {
   "cell_type": "markdown",
   "id": "399a5bc2-0c0d-4558-8916-8b6a8ba51f7b",
   "metadata": {},
   "source": [
    "As the example in the book we have the respon value of\n",
    "$$\n",
    "h(-2)= 0.5 h(-11) = -0.8 h(0) = 1.4 h(1) = 0.7 h(2) = 0.1 h(3) = 0.2\n",
    "$$\n",
    "##### With the length of 5"
   ]
  },
  {
   "cell_type": "code",
   "execution_count": null,
   "id": "6001d73e-0535-4e78-af4d-9e07b51c076f",
   "metadata": {},
   "outputs": [],
   "source": [
    "arr = np.array([ 0.5, -0.8, 1.4, 0.7, -0.6, 0.2])"
   ]
  },
  {
   "cell_type": "code",
   "execution_count": null,
   "id": "2d6f90c6-7033-4274-8635-0bba622e5d8a",
   "metadata": {},
   "outputs": [],
   "source": [
    "# For this case we use offset is the index of the largest value of the impusle \n",
    "# since h(0) the has the highest value\n",
    "ZF_h = generate_square_matrix(arr,5,arr.argmax(),float)\n",
    "print(\"impulse respone matrix:\\n\" ,ZF_h)"
   ]
  },
  {
   "cell_type": "markdown",
   "id": "71b3d9ea-819f-498f-891c-0c473e3ec850",
   "metadata": {},
   "source": [
    "After we got the impulse matrix we need to invert it as above equation"
   ]
  },
  {
   "cell_type": "code",
   "execution_count": null,
   "id": "2f88460a-1f55-4459-9ad6-9f0665e0ae2f",
   "metadata": {},
   "outputs": [],
   "source": [
    "ZF_h_inv = inv(ZF_h) #invert the impulse respone matrix\n",
    "np.set_printoptions(formatter={'float': lambda ZF_h_inv: \"{0:0.4f}\".format(ZF_h_inv)})\n",
    "print(\"Inverted impulse respone matrix: \\n\",ZF_h_inv)"
   ]
  },
  {
   "cell_type": "markdown",
   "id": "b3e4eec4-234f-4147-851b-903a85d0dbda",
   "metadata": {},
   "source": [
    "Then the Vector C of the filter is the middle column of the inverted impulse respone matrix, we take the vector"
   ]
  },
  {
   "cell_type": "code",
   "execution_count": null,
   "id": "642d2863-6510-405c-952a-e1c7780bf1c4",
   "metadata": {},
   "outputs": [],
   "source": [
    "# This is the funtion which take a matrix and extract the middle column of the matrix to a array\n",
    "def get_C_vector(inv_matrix, size,data_type):\n",
    "    mid_col=size>>1\n",
    "    C_vector=np.zeros(shape=(size)).astype(data_type)\n",
    "    for i in range(size):\n",
    "        C_vector[i]= inv_matrix[i,mid_col]\n",
    "    return C_vector\n",
    "\n",
    "ZF_C_vec = get_C_vector(ZF_h_inv,5,float)\n",
    "print(\"The C vector: \",ZF_C_vec)"
   ]
  },
  {
   "cell_type": "markdown",
   "id": "bf97b72d-827e-4779-a945-752a7f678219",
   "metadata": {},
   "source": [
    "At this point, we got the C vector of the filter, since this example doesn't have input signal, we will see how the filter work by convolve it with the original impulse respone array"
   ]
  },
  {
   "cell_type": "code",
   "execution_count": null,
   "id": "fc487126-4c04-49a2-b03e-1328ccd67246",
   "metadata": {},
   "outputs": [],
   "source": [
    "# Recheck with convolution of  C vector and h(t)\n",
    "def evaluate_ZF(ZF_C_vec,arr):\n",
    "    return np.convolve(ZF_C_vec, arr)\n",
    "ZF_z=evaluate_ZF(ZF_C_vec,arr)\n",
    "print(ZF_z)"
   ]
  },
  {
   "cell_type": "markdown",
   "id": "e5c9a0bb-49cc-4ded-8735-ab8bc5f4f50c",
   "metadata": {},
   "source": [
    "Since the filter has the length of 5, we have to ignore the first N = 2 elemment (where filter length = 2 N + 1), and we only care about the 3th to the 8th elements"
   ]
  },
  {
   "cell_type": "code",
   "execution_count": null,
   "id": "b689d114-d0e2-4148-9aa2-bce906b54d86",
   "metadata": {},
   "outputs": [],
   "source": [
    "print(ZF_z[2:7])"
   ]
  },
  {
   "cell_type": "markdown",
   "id": "8e5311a4-3514-44cf-9c9e-97c72d2e9403",
   "metadata": {},
   "source": [
    "#### This is the proper result, we can see that at the point z[0] value is 1 and other elements are zeros"
   ]
  },
  {
   "cell_type": "markdown",
   "id": "4f2b1113-5fd0-45aa-b18c-ea3a0baeae30",
   "metadata": {},
   "source": [
    "Another example from the book:"
   ]
  },
  {
   "cell_type": "code",
   "execution_count": null,
   "id": "6fcb0c0e-cb8e-4986-aa10-947d4f198c4b",
   "metadata": {},
   "outputs": [],
   "source": [
    "def ZF_equalizer(y,h,size,size_of_input,data_type):\n",
    "    ZF_h = generate_square_matrix(h,size,h.argmax(),data_type)\n",
    "    ZF_h_inv = inv(ZF_h)\n",
    "    np.set_printoptions(formatter={'float': lambda ZF_h_inv: \"{0:0.4f}\".format(ZF_h_inv)})\n",
    "    print(\"\\nImpulse respone matrix:\\n\" ,ZF_h,\"\\n\\nInverted impulse respone matrix: \\n\",ZF_h_inv)\n",
    "    ZF_C_vec = get_C_vector(ZF_h_inv,5,data_type)\n",
    "    print(\"\\nThe C vector: \",ZF_C_vec)\n",
    "    z=np.convolve(y,ZF_C_vec)\n",
    "    leftside=size>>1\n",
    "    print(\"\\nReconstructed signal: \\n\",z[leftside:leftside+size_of_input])    \n",
    "    return z[leftside:leftside+size_of_input]\n",
    "\n",
    "x=np.array([1+1j,-1+3j,-3-3j,-1-3j])    \n",
    "# y = np.array([1+1j,-1.8+2.2j,-1.7-4.9j,0.7+0.7j,-0.5+0.3j,0.1-0.9j,0.2+0.6j])\n",
    "h = np.array([ 1, -0.8, 0.5, -0.2])\n",
    "y = np.convolve(x,h)\n",
    "print(\"\\nRneceived signal :\", y) \n",
    "ZF_result = ZF_equalizer(y,h,5,x.size,complex)\n",
    "print(\"\\nOriginal signal:\\n\",x)"
   ]
  },
  {
   "cell_type": "code",
   "execution_count": null,
   "id": "76d9edf4-c2dd-4a40-b647-2320b3475732",
   "metadata": {},
   "outputs": [],
   "source": [
    "# np.square(np.subtract(x, ZF_result)).mean()"
   ]
  },
  {
   "cell_type": "markdown",
   "id": "0082a6ac-3b6e-4b08-ba85-cb7665fad220",
   "metadata": {},
   "source": [
    "### Conclusion\n",
    "    This menthod does not consider the interference and the FIR filter can only mitigate the minimum cased of ISI interference where distortion smaller than 100% ISI eye. "
   ]
  },
  {
   "cell_type": "markdown",
   "id": "f1fef3b5-1b1c-4852-9e22-97ee3aaa00f9",
   "metadata": {},
   "source": [
    "## MMSE equalizer"
   ]
  },
  {
   "cell_type": "markdown",
   "id": "a28f4df8-7629-4ef8-9405-36f98259ed4a",
   "metadata": {},
   "source": [
    "MMSE equation:\n",
    "$$\n",
    "    e^2(N)=E[(z(n)-x(n))^2]\\\\ \n",
    "$$\n",
    "with\n",
    "$$\n",
    "z(n)= C(n)*y(n)=\\sum\\limits _{m=-N} ^{+N} C(m).y(n-m)\\\\\n",
    "     (m = -N,....+N)\n",
    "$$"
   ]
  },
  {
   "cell_type": "markdown",
   "id": "a6c8590a-8c47-4d55-914c-36d1b093bd75",
   "metadata": {},
   "source": [
    "in matrix form\n",
    "$$\n",
    "R_{vv} \\vec C = \\vec R_{xy}\\\\\n",
    "\\vec C = R_{yy}^{-1} \\vec R_{yy}\n",
    "$$"
   ]
  },
  {
   "cell_type": "markdown",
   "id": "93bbfef2-62d4-4dde-ac2c-02c8b17eee9a",
   "metadata": {},
   "source": [
    "With MMSE we also follow the example in the note book with input of x_m and output is y_m with filter length is 5"
   ]
  },
  {
   "cell_type": "code",
   "execution_count": null,
   "id": "c39ceeb9-6291-4c19-86db-6520eb604239",
   "metadata": {},
   "outputs": [],
   "source": [
    "x_m=np.array([0.4501,-0.2689,0.1068,0])\n",
    "y_m=np.array([0.3601,-0.3601,0.1661,-0.0321])\n",
    "size = 5\n",
    "data_type = float"
   ]
  },
  {
   "cell_type": "markdown",
   "id": "1bc4af20-c866-49b0-a71b-c439e130a11e",
   "metadata": {},
   "source": [
    "First we need to find correlation of y and cross correlation of x"
   ]
  },
  {
   "cell_type": "code",
   "execution_count": null,
   "id": "6f7cb544-9a81-4f95-aeba-105ded9bda8d",
   "metadata": {},
   "outputs": [],
   "source": [
    "ryy=np.correlate(y_m,y_m,\"full\")\n",
    "rxy=np.correlate(x_m,y_m,\"full\")\n",
    "print('ryy:',ryy,'\\n\\nrxy',rxy,'\\n')"
   ]
  },
  {
   "cell_type": "markdown",
   "id": "71add916-4979-4032-aa1d-e7cd780acff4",
   "metadata": {},
   "source": [
    "Then we generate matrix Ryy from ryy and vector Rxy form rxy"
   ]
  },
  {
   "cell_type": "code",
   "execution_count": null,
   "id": "ca42fa92-9c6d-4646-820b-2e307ab85519",
   "metadata": {},
   "outputs": [],
   "source": [
    "Ryy=generate_square_matrix(ryy,size,ryy.argmax(),data_type)\n",
    "Rxy = np.mat(np.zeros(shape=(size,1))).astype(data_type)\n",
    "offset=rxy.argmax() - (size>>1)\n",
    "for i in range(size):\n",
    "    Rxy[i,0]= rxy[i+offset]\n",
    "print(\"Ryy: \\n\",Ryy,\"\\n\\nRxy: \\n\",Rxy)"
   ]
  },
  {
   "cell_type": "markdown",
   "id": "fffc8c61-a86f-4374-85d4-5529ccbc918a",
   "metadata": {},
   "source": [
    "The we got the C vector of the filter"
   ]
  },
  {
   "cell_type": "code",
   "execution_count": null,
   "id": "42b822ae-9506-4d03-b2e4-9093cb1923aa",
   "metadata": {},
   "outputs": [],
   "source": [
    "MMSE_C_Vec= np.asarray(inv(Ryy)*Rxy).flatten()\n",
    "print(MMSE_C_Vec)"
   ]
  },
  {
   "cell_type": "markdown",
   "id": "62cd1aeb-5a34-4bde-b639-85409e2159ab",
   "metadata": {},
   "source": [
    "Then the result, similar with ZF filter we have to get to get rid of some irrelevent value in the result"
   ]
  },
  {
   "cell_type": "code",
   "execution_count": null,
   "id": "a8f551ec-f92b-4366-8ce0-6ac4988007c7",
   "metadata": {},
   "outputs": [],
   "source": [
    "result= np.convolve(y_m,MMSE_C_Vec)\n",
    "np.set_printoptions(formatter={data_type: lambda result: \"{0:0.4f}\".format(result)})\n",
    "leftside=size>>1\n",
    "print(result[leftside:leftside+x.size])\n",
    "print(\"\\nOriginal :\",x_m)"
   ]
  },
  {
   "cell_type": "code",
   "execution_count": null,
   "id": "3c4054cc-30a2-4c4a-9112-d48aec8c2421",
   "metadata": {},
   "outputs": [],
   "source": [
    "np.square(np.subtract(x_m, result[leftside:leftside+x.size])).mean()"
   ]
  },
  {
   "cell_type": "markdown",
   "id": "c371f133-5595-48e0-8704-3788649b937e",
   "metadata": {},
   "source": [
    "Another example from the book:"
   ]
  },
  {
   "cell_type": "code",
   "execution_count": null,
   "id": "c2fda7bf-2f5f-438b-8d5a-833ba2b2c1a6",
   "metadata": {},
   "outputs": [],
   "source": [
    "def MMSE_equalizer(x,y,size,data_type):\n",
    "    ryy=np.correlate(y,y,\"full\")\n",
    "    rxy=np.correlate(x,y,\"full\")\n",
    "    print('ryy:',ryy,'\\n\\nrxy',rxy,'\\n')\n",
    "\n",
    "    Ryy=generate_square_matrix(ryy,size,ryy.argmax(),data_type)\n",
    "    Rxy = np.mat(np.zeros(shape=(size,1))).astype(data_type)\n",
    "    offset=rxy.argmax() - (size>>1)\n",
    "    for i in range(size):\n",
    "            Rxy[i,0]= rxy[i+offset]\n",
    "    np.set_printoptions(formatter={data_type: lambda result: \"{0:0.4f}\".format(Ryy)})\n",
    "    print(\"Ryy: \\n\",Ryy,\"\\n\\nRxy: \\n\",Rxy)\n",
    "    MMSE_C_Vec= np.asarray(inv(Ryy)*Rxy).flatten()\n",
    "    print(\"\\nVector C:\\n\",MMSE_C_Vec)\n",
    "    result = np.convolve(y,MMSE_C_Vec)\n",
    "\n",
    "    np.set_printoptions(formatter={data_type: lambda result: \"{0:0.4f}\".format(result)})\n",
    "    leftside=size>>1\n",
    "    print(\"\\nRecontructed signal:\\n\",result[leftside:leftside+x.size])\n",
    "    print(\"\\n Original: \",x,\"\\nReceived signal:\",y)\n",
    "    mse1=np.square(np.subtract(x, result[leftside:leftside+x.size])).mean()\n",
    "    mse2=np.square(np.subtract(x, y)).mean()\n",
    "\n",
    "    print(\"\\nMean Square error with recontructed signal:\\n\",mse1)\n",
    "    print(\"\\nMean Square error with recieved signal:\\n\",mse2)\n",
    "    print(\"\\nDifferent:\",x-result[leftside:leftside+x.size])\n",
    "    print(\"\\n\",result)\n",
    "z=np.array([1+1j,-1+3j,-3-3j,-1-3j])\n",
    "w=np.array([1+1j,-1.8+2.2j,-1.7-4.9j,0.7+0.7j,-0.5+0.3j,0.1-0.9j,0.2+0.6j])\n",
    "MMSE_equalizer(z,w,5,complex)\n"
   ]
  },
  {
   "cell_type": "markdown",
   "id": "b50808c8-1c2a-493e-bc1c-f2e2bd22208f",
   "metadata": {},
   "source": [
    "### Conclusion\n",
    "    This menthod does have adavantages over Zero Forcing shortcoming and also it's easy to use, easy to calculate, and very versatile"
   ]
  },
  {
   "cell_type": "code",
   "execution_count": null,
   "id": "7f3c4f63-4af7-4014-a182-7ed50462662e",
   "metadata": {},
   "outputs": [],
   "source": [
    "from pyphysim.util.misc import pretty_time, randn_c\n",
    "from pyphysim.util.conversion import dB2Linear\n",
    "\n",
    "# z=np.array([1+1j,-1+3j,-3-3j,-1-3j,2+4j,1+1j,-1+3j,-3-3j,-1-3j,2+4j,1+1j,-1+3j,-3-3j,-1-3j,2+4j,1+1j,-1+3j,-3-3j,-1-3j,2+4j,1+1j,-1+3j,-3-3j,-1-3j,2+4j,1+1j,-1+3j,-3-3j,-1-3j,2+4j,1+1j,-1+3j,-3-3j,-1-3j,2+4j,1+1j,-1+3j,-3-3j,-1-3j,2+4j])\n",
    "z=np.array([0.73+0.59j  ,0.43+1.01j  ,0.41+0.3j   ,1.24+1.1j  , 0.55+0.83j ])\n",
    "SNR_dB = 30\n",
    "snr_linear = dB2Linear(SNR_dB)\n",
    "noise_power = 1 / snr_linear\n",
    "# Noise vector\n",
    "n = math.sqrt(noise_power) * randn_c(z.size)\n",
    "# print(modulated_data_qpsk.size)\n",
    "\n",
    "h = randn_c(z.size)\n",
    "# Receive the corrupted data\n",
    "y_z = h * z + n\n",
    "# Equalization\n",
    "y_z /= h\n",
    "print(y_z)\n",
    "MMSE_equalizer(z,y_z,5,complex)"
   ]
  }
 ],
 "metadata": {
  "kernelspec": {
   "display_name": "Python 3 (ipykernel)",
   "language": "python",
   "name": "python3"
  },
  "language_info": {
   "codemirror_mode": {
    "name": "ipython",
    "version": 3
   },
   "file_extension": ".py",
   "mimetype": "text/x-python",
   "name": "python",
   "nbconvert_exporter": "python",
   "pygments_lexer": "ipython3",
   "version": "3.8.8"
  }
 },
 "nbformat": 4,
 "nbformat_minor": 5
}
